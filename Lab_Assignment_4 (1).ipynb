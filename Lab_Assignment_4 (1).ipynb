{
  "nbformat": 4,
  "nbformat_minor": 0,
  "metadata": {
    "colab": {
      "provenance": []
    },
    "kernelspec": {
      "name": "python3",
      "display_name": "Python 3"
    },
    "language_info": {
      "name": "python"
    }
  },
  "cells": [
    {
      "cell_type": "code",
      "execution_count": null,
      "metadata": {
        "colab": {
          "base_uri": "https://localhost:8080/"
        },
        "id": "msMmM7zObC5L",
        "outputId": "cdb3682d-ad52-4031-891e-6c9b32cb6a31"
      },
      "outputs": [
        {
          "output_type": "stream",
          "name": "stdout",
          "text": [
            "# Variable types:\n",
            " a is of type int \n",
            " b is of type str \n",
            " c is of type int \n",
            " d is of type str \n",
            " e is of type str \n",
            " f is of type str \n",
            " g is of type str\n"
          ]
        }
      ],
      "source": [
        "\n",
        "# Declare the variables\n",
        "a = 3  # type: int\n",
        "b = '0'  # type: str\n",
        "c = a - 2  # type: int\n",
        "d = 'from'  # type: str\n",
        "e = 'QMSS'  # type: str\n",
        "f = '0.304'  # type: str\n",
        "g = 'U of M'  # type: str\n",
        "\n",
        "# Print the types as comments in the code\n",
        "print(\"# Variable types:\\n\",\n",
        "      \"a is of type\", type(a).__name__, \"\\n\",\n",
        "      \"b is of type\", type(b).__name__, \"\\n\",\n",
        "      \"c is of type\", type(c).__name__, \"\\n\",\n",
        "      \"d is of type\", type(d).__name__, \"\\n\",\n",
        "      \"e is of type\", type(e).__name__, \"\\n\",\n",
        "      \"f is of type\", type(f).__name__, \"\\n\",\n",
        "      \"g is of type\", type(g).__name__)"
      ]
    },
    {
      "cell_type": "code",
      "source": [],
      "metadata": {
        "id": "W9esuOyrdEy3"
      },
      "execution_count": null,
      "outputs": []
    },
    {
      "cell_type": "markdown",
      "source": [
        "Variable types:\n",
        " a integer\n",
        " b string\n",
        " c integer\n",
        " d string\n",
        " e string\n",
        " f string\n",
        " g string"
      ],
      "metadata": {
        "id": "yGNmVXBId6yn"
      }
    },
    {
      "cell_type": "code",
      "source": [
        "# List of numbers to categorize\n",
        "num_list = [3892, 20, -145, 123, 89, -78, -93, 41, -543, -86, 583, -39, 76, 351, -34]\n",
        "\n",
        "# Create empty lists for categorization\n",
        "positive_odd = []\n",
        "positive_even = []\n",
        "negative_odd = []\n",
        "negative_even = []\n",
        "\n",
        "# Iterate through the num list and categorize numbers based on properties\n",
        "for number in num_list:\n",
        "    if number > 0:\n",
        "        if number % 2 == 0:\n",
        "            positive_even.append(number)\n",
        "        else:\n",
        "            positive_odd.append(number)\n",
        "    elif number < 0:\n",
        "        if number % 2 == 0:\n",
        "            negative_even.append(number)\n",
        "        else:\n",
        "            negative_odd.append(number)\n",
        "\n",
        "# Output the categorized lists\n",
        "print(\"Positive Odd:\", positive_odd)\n",
        "print(\"Positive Even:\", positive_even)\n",
        "print(\"Negative Odd:\", negative_odd)\n",
        "print(\"Negative Even:\", negative_even)"
      ],
      "metadata": {
        "colab": {
          "base_uri": "https://localhost:8080/"
        },
        "id": "KsJ5QFJveS1U",
        "outputId": "42b822e2-5c7a-4675-f6f3-c232af91d060"
      },
      "execution_count": null,
      "outputs": [
        {
          "output_type": "stream",
          "name": "stdout",
          "text": [
            "Positive Odd: [123, 89, 41, 583, 351]\n",
            "Positive Even: [3892, 20, 76]\n",
            "Negative Odd: [-145, -93, -543, -39]\n",
            "Negative Even: [-78, -86, -34]\n"
          ]
        }
      ]
    },
    {
      "cell_type": "code",
      "source": [
        "\n",
        "# (a) Import the diabetes data from the CSV file\n",
        "from google.colab import files\n",
        "uploaded = files.upload()\n",
        "# After uploading, use the correct filename in the read_csv function\n",
        "import pandas as pd\n",
        "diabetes_data = pd.read_csv('diabetesdata.csv')\n",
        "\n",
        "# (b) Find the shape of the data\n",
        "data_shape = diabetes_data.shape\n",
        "print(\"Shape of the data:\", data_shape)\n",
        "\n",
        "# (c) Find the summary statistics of the data\n",
        "summary_statistics = diabetes_data.describe()\n",
        "print(\"Summary Statistics:\\n\", summary_statistics)"
      ],
      "metadata": {
        "colab": {
          "base_uri": "https://localhost:8080/",
          "height": 449
        },
        "id": "7qy5LcjDe4WJ",
        "outputId": "9383ca00-7998-47fc-931b-1be574c9fc83"
      },
      "execution_count": null,
      "outputs": [
        {
          "output_type": "display_data",
          "data": {
            "text/plain": [
              "<IPython.core.display.HTML object>"
            ],
            "text/html": [
              "\n",
              "     <input type=\"file\" id=\"files-1a677240-ba38-4b4e-94ff-78ffaa6552d1\" name=\"files[]\" multiple disabled\n",
              "        style=\"border:none\" />\n",
              "     <output id=\"result-1a677240-ba38-4b4e-94ff-78ffaa6552d1\">\n",
              "      Upload widget is only available when the cell has been executed in the\n",
              "      current browser session. Please rerun this cell to enable.\n",
              "      </output>\n",
              "      <script>// Copyright 2017 Google LLC\n",
              "//\n",
              "// Licensed under the Apache License, Version 2.0 (the \"License\");\n",
              "// you may not use this file except in compliance with the License.\n",
              "// You may obtain a copy of the License at\n",
              "//\n",
              "//      http://www.apache.org/licenses/LICENSE-2.0\n",
              "//\n",
              "// Unless required by applicable law or agreed to in writing, software\n",
              "// distributed under the License is distributed on an \"AS IS\" BASIS,\n",
              "// WITHOUT WARRANTIES OR CONDITIONS OF ANY KIND, either express or implied.\n",
              "// See the License for the specific language governing permissions and\n",
              "// limitations under the License.\n",
              "\n",
              "/**\n",
              " * @fileoverview Helpers for google.colab Python module.\n",
              " */\n",
              "(function(scope) {\n",
              "function span(text, styleAttributes = {}) {\n",
              "  const element = document.createElement('span');\n",
              "  element.textContent = text;\n",
              "  for (const key of Object.keys(styleAttributes)) {\n",
              "    element.style[key] = styleAttributes[key];\n",
              "  }\n",
              "  return element;\n",
              "}\n",
              "\n",
              "// Max number of bytes which will be uploaded at a time.\n",
              "const MAX_PAYLOAD_SIZE = 100 * 1024;\n",
              "\n",
              "function _uploadFiles(inputId, outputId) {\n",
              "  const steps = uploadFilesStep(inputId, outputId);\n",
              "  const outputElement = document.getElementById(outputId);\n",
              "  // Cache steps on the outputElement to make it available for the next call\n",
              "  // to uploadFilesContinue from Python.\n",
              "  outputElement.steps = steps;\n",
              "\n",
              "  return _uploadFilesContinue(outputId);\n",
              "}\n",
              "\n",
              "// This is roughly an async generator (not supported in the browser yet),\n",
              "// where there are multiple asynchronous steps and the Python side is going\n",
              "// to poll for completion of each step.\n",
              "// This uses a Promise to block the python side on completion of each step,\n",
              "// then passes the result of the previous step as the input to the next step.\n",
              "function _uploadFilesContinue(outputId) {\n",
              "  const outputElement = document.getElementById(outputId);\n",
              "  const steps = outputElement.steps;\n",
              "\n",
              "  const next = steps.next(outputElement.lastPromiseValue);\n",
              "  return Promise.resolve(next.value.promise).then((value) => {\n",
              "    // Cache the last promise value to make it available to the next\n",
              "    // step of the generator.\n",
              "    outputElement.lastPromiseValue = value;\n",
              "    return next.value.response;\n",
              "  });\n",
              "}\n",
              "\n",
              "/**\n",
              " * Generator function which is called between each async step of the upload\n",
              " * process.\n",
              " * @param {string} inputId Element ID of the input file picker element.\n",
              " * @param {string} outputId Element ID of the output display.\n",
              " * @return {!Iterable<!Object>} Iterable of next steps.\n",
              " */\n",
              "function* uploadFilesStep(inputId, outputId) {\n",
              "  const inputElement = document.getElementById(inputId);\n",
              "  inputElement.disabled = false;\n",
              "\n",
              "  const outputElement = document.getElementById(outputId);\n",
              "  outputElement.innerHTML = '';\n",
              "\n",
              "  const pickedPromise = new Promise((resolve) => {\n",
              "    inputElement.addEventListener('change', (e) => {\n",
              "      resolve(e.target.files);\n",
              "    });\n",
              "  });\n",
              "\n",
              "  const cancel = document.createElement('button');\n",
              "  inputElement.parentElement.appendChild(cancel);\n",
              "  cancel.textContent = 'Cancel upload';\n",
              "  const cancelPromise = new Promise((resolve) => {\n",
              "    cancel.onclick = () => {\n",
              "      resolve(null);\n",
              "    };\n",
              "  });\n",
              "\n",
              "  // Wait for the user to pick the files.\n",
              "  const files = yield {\n",
              "    promise: Promise.race([pickedPromise, cancelPromise]),\n",
              "    response: {\n",
              "      action: 'starting',\n",
              "    }\n",
              "  };\n",
              "\n",
              "  cancel.remove();\n",
              "\n",
              "  // Disable the input element since further picks are not allowed.\n",
              "  inputElement.disabled = true;\n",
              "\n",
              "  if (!files) {\n",
              "    return {\n",
              "      response: {\n",
              "        action: 'complete',\n",
              "      }\n",
              "    };\n",
              "  }\n",
              "\n",
              "  for (const file of files) {\n",
              "    const li = document.createElement('li');\n",
              "    li.append(span(file.name, {fontWeight: 'bold'}));\n",
              "    li.append(span(\n",
              "        `(${file.type || 'n/a'}) - ${file.size} bytes, ` +\n",
              "        `last modified: ${\n",
              "            file.lastModifiedDate ? file.lastModifiedDate.toLocaleDateString() :\n",
              "                                    'n/a'} - `));\n",
              "    const percent = span('0% done');\n",
              "    li.appendChild(percent);\n",
              "\n",
              "    outputElement.appendChild(li);\n",
              "\n",
              "    const fileDataPromise = new Promise((resolve) => {\n",
              "      const reader = new FileReader();\n",
              "      reader.onload = (e) => {\n",
              "        resolve(e.target.result);\n",
              "      };\n",
              "      reader.readAsArrayBuffer(file);\n",
              "    });\n",
              "    // Wait for the data to be ready.\n",
              "    let fileData = yield {\n",
              "      promise: fileDataPromise,\n",
              "      response: {\n",
              "        action: 'continue',\n",
              "      }\n",
              "    };\n",
              "\n",
              "    // Use a chunked sending to avoid message size limits. See b/62115660.\n",
              "    let position = 0;\n",
              "    do {\n",
              "      const length = Math.min(fileData.byteLength - position, MAX_PAYLOAD_SIZE);\n",
              "      const chunk = new Uint8Array(fileData, position, length);\n",
              "      position += length;\n",
              "\n",
              "      const base64 = btoa(String.fromCharCode.apply(null, chunk));\n",
              "      yield {\n",
              "        response: {\n",
              "          action: 'append',\n",
              "          file: file.name,\n",
              "          data: base64,\n",
              "        },\n",
              "      };\n",
              "\n",
              "      let percentDone = fileData.byteLength === 0 ?\n",
              "          100 :\n",
              "          Math.round((position / fileData.byteLength) * 100);\n",
              "      percent.textContent = `${percentDone}% done`;\n",
              "\n",
              "    } while (position < fileData.byteLength);\n",
              "  }\n",
              "\n",
              "  // All done.\n",
              "  yield {\n",
              "    response: {\n",
              "      action: 'complete',\n",
              "    }\n",
              "  };\n",
              "}\n",
              "\n",
              "scope.google = scope.google || {};\n",
              "scope.google.colab = scope.google.colab || {};\n",
              "scope.google.colab._files = {\n",
              "  _uploadFiles,\n",
              "  _uploadFilesContinue,\n",
              "};\n",
              "})(self);\n",
              "</script> "
            ]
          },
          "metadata": {}
        },
        {
          "output_type": "stream",
          "name": "stdout",
          "text": [
            "Saving diabetesdata.csv to diabetesdata (1).csv\n",
            "Shape of the data: (768, 9)\n",
            "Summary Statistics:\n",
            "        Pregnancies     Glucose  BloodPressure  SkinThickness     Insulin  \\\n",
            "count   768.000000  768.000000     768.000000     768.000000  768.000000   \n",
            "mean      3.845052  120.894531      69.105469      20.536458   79.799479   \n",
            "std       3.369578   31.972618      19.355807      15.952218  115.244002   \n",
            "min       0.000000    0.000000       0.000000       0.000000    0.000000   \n",
            "25%       1.000000   99.000000      62.000000       0.000000    0.000000   \n",
            "50%       3.000000  117.000000      72.000000      23.000000   30.500000   \n",
            "75%       6.000000  140.250000      80.000000      32.000000  127.250000   \n",
            "max      17.000000  199.000000     122.000000      99.000000  846.000000   \n",
            "\n",
            "              BMI  DiabetesPedigreeFunction         Age     Outcome  \n",
            "count  768.000000                768.000000  768.000000  768.000000  \n",
            "mean    31.992578                  0.471876   33.240885    0.348958  \n",
            "std      7.884160                  0.331329   11.760232    0.476951  \n",
            "min      0.000000                  0.078000   21.000000    0.000000  \n",
            "25%     27.300000                  0.243750   24.000000    0.000000  \n",
            "50%     32.000000                  0.372500   29.000000    0.000000  \n",
            "75%     36.600000                  0.626250   41.000000    1.000000  \n",
            "max     67.100000                  2.420000   81.000000    1.000000  \n"
          ]
        }
      ]
    },
    {
      "cell_type": "code",
      "source": [
        "# Import necessary libraries\n",
        "import statsmodels.api as sm\n",
        "\n",
        "\n",
        "# Define the independent variable (Insulin) and dependent variable (Outcome)\n",
        "X = diabetes_data['Insulin']\n",
        "y = diabetes_data['Outcome']\n",
        "\n",
        "# Add a constant to the independent variable for the intercept\n",
        "X = sm.add_constant(X)\n",
        "\n",
        "# Fit the logistic regression model\n",
        "logit_model = sm.Logit(y, X)\n",
        "result = logit_model.fit()\n",
        "\n",
        "# Print the summary of the logistic regression model\n",
        "print(result.summary())"
      ],
      "metadata": {
        "colab": {
          "base_uri": "https://localhost:8080/"
        },
        "id": "L67zOPdXfXgM",
        "outputId": "7984f646-bf40-443c-f7be-60dd67a72e70"
      },
      "execution_count": null,
      "outputs": [
        {
          "output_type": "stream",
          "name": "stdout",
          "text": [
            "Optimization terminated successfully.\n",
            "         Current function value: 0.638548\n",
            "         Iterations 5\n",
            "                           Logit Regression Results                           \n",
            "==============================================================================\n",
            "Dep. Variable:                Outcome   No. Observations:                  768\n",
            "Model:                          Logit   Df Residuals:                      766\n",
            "Method:                           MLE   Df Model:                            1\n",
            "Date:                Wed, 23 Oct 2024   Pseudo R-squ.:                 0.01276\n",
            "Time:                        17:47:32   Log-Likelihood:                -490.41\n",
            "converged:                       True   LL-Null:                       -496.74\n",
            "Covariance Type:            nonrobust   LLR p-value:                 0.0003709\n",
            "==============================================================================\n",
            "                 coef    std err          z      P>|z|      [0.025      0.975]\n",
            "------------------------------------------------------------------------------\n",
            "const         -0.8145      0.094     -8.632      0.000      -0.999      -0.630\n",
            "Insulin        0.0023      0.001      3.518      0.000       0.001       0.004\n",
            "==============================================================================\n"
          ]
        }
      ]
    },
    {
      "cell_type": "markdown",
      "source": [
        "\n",
        "Statistical Significance: The low p-value for the insulin coefficient confirms that the relationship between insulin levels and diabetes diagnostics is statistically significant, meaning it is unlikely to have occurred by chance. This provides strong evidence to support the hypothesis that insulin levels affect diabetes outcomes.\n"
      ],
      "metadata": {
        "id": "zQF_5AhQgUqg"
      }
    },
    {
      "cell_type": "code",
      "source": [
        "\n",
        "# Define the independent variables (Insulin and Glucose) and dependent variable (Outcome)\n",
        "X = diabetes_data[['Insulin', 'Glucose']]\n",
        "y = diabetes_data['Outcome']\n",
        "\n",
        "# Add a constant to the independent variables for the intercept\n",
        "X = sm.add_constant(X)\n",
        "\n",
        "# Fit the logistic regression model\n",
        "logit_model = sm.Logit(y, X)\n",
        "result = logit_model.fit()\n",
        "\n",
        "# Print the summary of the logistic regression model\n",
        "print(result.summary())"
      ],
      "metadata": {
        "colab": {
          "base_uri": "https://localhost:8080/"
        },
        "id": "qLTOfFQ8gmsr",
        "outputId": "c10a5021-0146-425a-b2e4-423ad390427f"
      },
      "execution_count": null,
      "outputs": [
        {
          "output_type": "stream",
          "name": "stdout",
          "text": [
            "Optimization terminated successfully.\n",
            "         Current function value: 0.525892\n",
            "         Iterations 6\n",
            "                           Logit Regression Results                           \n",
            "==============================================================================\n",
            "Dep. Variable:                Outcome   No. Observations:                  768\n",
            "Model:                          Logit   Df Residuals:                      765\n",
            "Method:                           MLE   Df Model:                            2\n",
            "Date:                Wed, 23 Oct 2024   Pseudo R-squ.:                  0.1869\n",
            "Time:                        17:58:00   Log-Likelihood:                -403.88\n",
            "converged:                       True   LL-Null:                       -496.74\n",
            "Covariance Type:            nonrobust   LLR p-value:                 4.706e-41\n",
            "==============================================================================\n",
            "                 coef    std err          z      P>|z|      [0.025      0.975]\n",
            "------------------------------------------------------------------------------\n",
            "const         -5.4144      0.428    -12.658      0.000      -6.253      -4.576\n",
            "Insulin       -0.0007      0.001     -0.978      0.328      -0.002       0.001\n",
            "Glucose        0.0389      0.003     11.316      0.000       0.032       0.046\n",
            "==============================================================================\n"
          ]
        }
      ]
    },
    {
      "cell_type": "markdown",
      "source": [
        "Glucose Level: The coefficient for glucose is 0.0389, which is positive and statistically significant (p-value < 0.001). This indicates that higher glucose levels are strongly associated with an increased likelihood of a diabetes diagnosis.\n",
        "Insulin Level: The coefficient for insulin is -0.0007, which is not statistically significant (p-value = 0.328). This suggests that, when controlling for glucose levels, insulin levels do not have a statistically significant impact on the likelihood of being diagnosed with diabetes in this dataset."
      ],
      "metadata": {
        "id": "68pKTUvDiU4w"
      }
    }
  ]
}